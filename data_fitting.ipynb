{
 "cells": [
  {
   "cell_type": "markdown",
   "id": "4ebbae23",
   "metadata": {},
   "source": [
    "### **Đồ án Final - Toán ứng dụng và Thống kê - Applied Mathematics and Statistics**"
   ]
  },
  {
   "cell_type": "markdown",
   "id": "88c126f4",
   "metadata": {},
   "source": [
    "### **Phần 1: Tối ưu lồi - Data Fitting**"
   ]
  },
  {
   "cell_type": "markdown",
   "id": "2cfb3c69",
   "metadata": {},
   "source": [
    "#### 1. Import các thư viện cần thiết"
   ]
  },
  {
   "cell_type": "code",
   "execution_count": 60,
   "id": "19f65d14",
   "metadata": {},
   "outputs": [],
   "source": [
    "import pandas as pd \n",
    "import matplotlib.pyplot as plt\n",
    "import math\n",
    "import copy"
   ]
  },
  {
   "cell_type": "markdown",
   "id": "b958cc3e",
   "metadata": {},
   "source": [
    "### 2. Đọc dữ liệu từ file CSV"
   ]
  },
  {
   "cell_type": "code",
   "execution_count": 61,
   "id": "fd2fa3a3",
   "metadata": {},
   "outputs": [
    {
     "data": {
      "text/html": [
       "<div>\n",
       "<style scoped>\n",
       "    .dataframe tbody tr th:only-of-type {\n",
       "        vertical-align: middle;\n",
       "    }\n",
       "\n",
       "    .dataframe tbody tr th {\n",
       "        vertical-align: top;\n",
       "    }\n",
       "\n",
       "    .dataframe thead th {\n",
       "        text-align: right;\n",
       "    }\n",
       "</style>\n",
       "<table border=\"1\" class=\"dataframe\">\n",
       "  <thead>\n",
       "    <tr style=\"text-align: right;\">\n",
       "      <th></th>\n",
       "      <th>user_id</th>\n",
       "      <th>age</th>\n",
       "      <th>annual_income</th>\n",
       "      <th>purchase_amount</th>\n",
       "      <th>loyalty_score</th>\n",
       "      <th>region</th>\n",
       "      <th>purchase_frequency</th>\n",
       "    </tr>\n",
       "  </thead>\n",
       "  <tbody>\n",
       "    <tr>\n",
       "      <th>0</th>\n",
       "      <td>1</td>\n",
       "      <td>25</td>\n",
       "      <td>45000</td>\n",
       "      <td>200</td>\n",
       "      <td>4.5</td>\n",
       "      <td>North</td>\n",
       "      <td>12</td>\n",
       "    </tr>\n",
       "    <tr>\n",
       "      <th>1</th>\n",
       "      <td>2</td>\n",
       "      <td>34</td>\n",
       "      <td>55000</td>\n",
       "      <td>350</td>\n",
       "      <td>7.0</td>\n",
       "      <td>South</td>\n",
       "      <td>18</td>\n",
       "    </tr>\n",
       "    <tr>\n",
       "      <th>2</th>\n",
       "      <td>3</td>\n",
       "      <td>45</td>\n",
       "      <td>65000</td>\n",
       "      <td>500</td>\n",
       "      <td>8.0</td>\n",
       "      <td>West</td>\n",
       "      <td>22</td>\n",
       "    </tr>\n",
       "    <tr>\n",
       "      <th>3</th>\n",
       "      <td>4</td>\n",
       "      <td>22</td>\n",
       "      <td>30000</td>\n",
       "      <td>150</td>\n",
       "      <td>3.0</td>\n",
       "      <td>East</td>\n",
       "      <td>10</td>\n",
       "    </tr>\n",
       "    <tr>\n",
       "      <th>4</th>\n",
       "      <td>5</td>\n",
       "      <td>29</td>\n",
       "      <td>47000</td>\n",
       "      <td>220</td>\n",
       "      <td>4.8</td>\n",
       "      <td>North</td>\n",
       "      <td>13</td>\n",
       "    </tr>\n",
       "  </tbody>\n",
       "</table>\n",
       "</div>"
      ],
      "text/plain": [
       "   user_id  age  annual_income  purchase_amount  loyalty_score region  \\\n",
       "0        1   25          45000              200            4.5  North   \n",
       "1        2   34          55000              350            7.0  South   \n",
       "2        3   45          65000              500            8.0   West   \n",
       "3        4   22          30000              150            3.0   East   \n",
       "4        5   29          47000              220            4.8  North   \n",
       "\n",
       "   purchase_frequency  \n",
       "0                  12  \n",
       "1                  18  \n",
       "2                  22  \n",
       "3                  10  \n",
       "4                  13  "
      ]
     },
     "execution_count": 61,
     "metadata": {},
     "output_type": "execute_result"
    }
   ],
   "source": [
    "df = pd.read_csv('data/customer_purchase_behaviors.csv')\n",
    "df.head()"
   ]
  },
  {
   "cell_type": "markdown",
   "id": "68c250b4",
   "metadata": {},
   "source": [
    "#### Mô tả đầu vào (input) và đầu ra (output) của mô hình cần được xây dựng."
   ]
  },
  {
   "cell_type": "markdown",
   "id": "9a042230",
   "metadata": {},
   "source": [
    "- Đầu vào của mô hình (input) là: 'age', 'annual_income', 'purchase_amount', 'purchase_frequency'\n",
    "\n",
    "- Đầu ra của mô hình (output) là: 'loyalty_score'"
   ]
  },
  {
   "cell_type": "markdown",
   "id": "e536aaef",
   "metadata": {},
   "source": [
    "#### Danh sách các input và output:"
   ]
  },
  {
   "cell_type": "code",
   "execution_count": 62,
   "id": "1fcf552a",
   "metadata": {},
   "outputs": [],
   "source": [
    "list_feature_name = ['age', 'annual_income', 'purchase_amount', 'purchase_frequency']\n",
    "output_model_name = ['loyalty_score']"
   ]
  },
  {
   "cell_type": "markdown",
   "id": "ce3ee22e",
   "metadata": {},
   "source": [
    "#### Vẽ biểu đồ phân tán của dữ liệu"
   ]
  },
  {
   "cell_type": "code",
   "execution_count": 63,
   "id": "a11e924a",
   "metadata": {},
   "outputs": [
    {
     "data": {
      "image/png": "[encoded data removed]",
      "text/plain": [
       "<Figure size 1400x1000 with 4 Axes>"
      ]
     },
     "metadata": {},
     "output_type": "display_data"
    }
   ],
   "source": [
    "# x_point = df['age']\n",
    "# y_point = df['loyalty_score']\n",
    "\n",
    "plt.figure(figsize=(14, 10))\n",
    "\n",
    "for i, x in enumerate(list_feature_name):\n",
    "    plt.subplot(2, 2, i+1)\n",
    "    x_point = df[x]\n",
    "    y_point = df[output_model_name[0]]\n",
    "    \n",
    "    plt.scatter(x_point, y_point, alpha=0.6)\n",
    "    plt.title(f'Relationship between {x} and {output_model_name[0]}')\n",
    "    plt.xlabel(x)\n",
    "    plt.ylabel(output_model_name[0])\n",
    "    plt.grid(True, linestyle='--', alpha=0.7)\n",
    "\n",
    "plt.tight_layout()\n",
    "plt.show()\n"
   ]
  },
  {
   "cell_type": "markdown",
   "id": "e51875a9",
   "metadata": {},
   "source": [
    "### 3. Tạo các hàm hỗ trợ trong việc train mô hình"
   ]
  },
  {
   "cell_type": "markdown",
   "id": "df60481e",
   "metadata": {},
   "source": [
    "#### Tạo ma trận toàn số 0\n",
    "\n",
    "- Hàm này sẽ tạo ra một ma trận có kích thước (m, n) với tất cả các giá trị là 0."
   ]
  },
  {
   "cell_type": "code",
   "execution_count": 64,
   "id": "b8d5011a",
   "metadata": {},
   "outputs": [],
   "source": [
    "def create_zero_matrix(n_row, n_col):\n",
    "    return [[0 for _ in range(n_col)] for _ in range(n_row)]"
   ]
  },
  {
   "cell_type": "markdown",
   "id": "95578d0e",
   "metadata": {},
   "source": [
    "#### Chuyển vị ma trận\n",
    "\n",
    "- Hàm này sẽ tạo ra một ma trận chuyển vị của ma trận đầu vào.\n",
    "\n",
    "Ví dụ:\n",
    "${A} = \\begin{bmatrix} 1 & 2 \\\\ 3 & 4 \\end{bmatrix}$\n",
    "$ \\Rightarrow $\n",
    "${A}^T = \\begin{bmatrix} 1 & 3 \\\\ 2 & 4 \\end{bmatrix}$"
   ]
  },
  {
   "cell_type": "code",
   "execution_count": 65,
   "id": "e0282f35",
   "metadata": {},
   "outputs": [],
   "source": [
    "def transpose_matrix(matrix):\n",
    "\tn_row = len(matrix)\n",
    "\tn_col = len(matrix[0])\n",
    " \n",
    "\tmatrix_trans = create_zero_matrix(n_col, n_row)\n",
    "\t\n",
    "\tfor i in range(n_row):\n",
    "\t\tfor j in range(n_col):\n",
    "\t\t\tmatrix_trans[j][i] = matrix[i][j]\n",
    "\t\t\t\n",
    "\treturn matrix_trans"
   ]
  },
  {
   "cell_type": "markdown",
   "id": "d5bfa0dd",
   "metadata": {},
   "source": [
    "#### Nhân 2 ma trận\n",
    "\n",
    "- Hàm này sẽ nhân 2 ma trận với nhau.\n",
    "- Lưu ý: Số cột của ma trận A phải bằng số dòng của ma trận B."
   ]
  },
  {
   "cell_type": "code",
   "execution_count": 66,
   "id": "2c2a0461",
   "metadata": {},
   "outputs": [],
   "source": [
    "def multiply_matrix(matrix_A, matrix_B):\n",
    "    # tao ra ma tran ket qua co kich thuoc la so cot cua ma tran A va so dong cua ma tran B\n",
    "    result_matrix = [[0 for _ in range(len(matrix_B[0]))] for _ in range(len(matrix_A))]\n",
    "    \n",
    "    m_row_A = len(matrix_A)\n",
    "    n_col_B = len(matrix_B[0])\n",
    "    \n",
    "    if (len(matrix_A[0]) != len(matrix_B)):\n",
    "        raise ValueError(\"Number of columns in matrix A must be equal to number of rows in matrix B\")\n",
    "    \n",
    "    for i_row in range(m_row_A):\n",
    "        for i_col in range(n_col_B):\n",
    "            total = 0\n",
    "            for i,a in enumerate(matrix_A[i_row]):\n",
    "                total += a*matrix_B[i][i_col]\n",
    "            result_matrix[i_row][i_col] = total\n",
    "    \n",
    "    return result_matrix"
   ]
  },
  {
   "cell_type": "markdown",
   "id": "14d11ad7",
   "metadata": {},
   "source": [
    "#### Nhân ma trận với hằng số cho trước\n",
    "\n",
    "- Hàm này sẽ nhân tất cả các phần tử của ma trận với một hằng số cho trước."
   ]
  },
  {
   "cell_type": "code",
   "execution_count": 67,
   "id": "b9c2c267",
   "metadata": {},
   "outputs": [],
   "source": [
    "def multiply_scalar_matrix(scalar, A_list):\n",
    "    return [[scalar * a for a in a_row] for a_row in A_list]"
   ]
  },
  {
   "cell_type": "markdown",
   "id": "7a89861b",
   "metadata": {},
   "source": [
    "#### Tính định thức của ma trận\n",
    "\n",
    "- Hàm này sẽ tính định thức của một ma trận vuông.\n",
    "\n",
    "- Để tính định thức của ma trận, ta sẽ xây dựng hàm `create_submatrix` để xây dựng một ma trận có được bằng cách xóa đi dòng và cột. Sau đó sẽ xây dựng hàm `determinant` để tìm định thức."
   ]
  },
  {
   "cell_type": "code",
   "execution_count": 68,
   "id": "f1abdfa8",
   "metadata": {},
   "outputs": [],
   "source": [
    "def create_submatrix(A, i_row, i_col):\n",
    "    sub_A = copy.deepcopy(A)\n",
    "    \n",
    "    # Bỏ dòng\n",
    "    sub_A = sub_A[:i_row] + sub_A[i_row+1:]\n",
    "    \n",
    "    # Bỏ cột\n",
    "    n_row_sub = len(sub_A)\n",
    "    for i in range(n_row_sub): \n",
    "        sub_A[i] = sub_A[i][:i_col] + sub_A[i][i_col+1:]\n",
    "        \n",
    "    return sub_A\n",
    "\n",
    "# Dành cho ma trận vuông\n",
    "def determinant(A):\n",
    "    # Trường hợp cơ bản, định thức của ma trận 1x1\n",
    "    if len(A) == 1 and len(A[0]) == 1:\n",
    "        return A[0][0]\n",
    "    \n",
    "    total = 0\n",
    " \n",
    "    # Duyệt qua từng cột để loại bỏ\n",
    "    for i_col in range(len(A[0])):\n",
    "        sub_A = create_submatrix(A, 0, i_col)\n",
    " \n",
    "        # Tìm dấu\n",
    "        sign = (-1) ** (i_col)\n",
    "        \n",
    "        # Gọi đệ quy cho các ma trận con\n",
    "        sub_det = determinant(sub_A)\n",
    "        \n",
    "        # Cộng dồn định thức khi bỏ cột i_col\n",
    "        total += sign * A[0][i_col] * sub_det \n",
    " \n",
    "    return total"
   ]
  },
  {
   "cell_type": "markdown",
   "id": "1d287b15",
   "metadata": {},
   "source": [
    "#### Nghịch đảo ma trận\n",
    "\n",
    "- Hàm này sẽ tính ma trận nghịch đảo của một ma trận vuông.\n",
    "- Để tính ma trận nghịch đảo, ta sẽ sử dụng công thức:\n",
    "\n",
    "$$\n",
    "A^{-1} = \\frac{1}{\\text{det}(A)} \\cdot \\text{adj}(A)$$\n",
    "- Trong đó, $\\text{adj}(A)$ là ma trận phụ hợp của ma trận $A$ (Được tạo từ `create_submatrix`).\n",
    "\n"
   ]
  },
  {
   "cell_type": "code",
   "execution_count": 69,
   "id": "9a2f1366",
   "metadata": {},
   "outputs": [],
   "source": [
    "# Cho ma trận vuông\n",
    "def inverse(A):\n",
    "    n_row = len(A)\n",
    "    n_col = len(A[0])\n",
    "    \n",
    "    # Tính định thức cho ma trận\n",
    "    det_A = determinant(A)\n",
    "    \n",
    "    # Trả về None khi ma trận không khả nghịch\n",
    "    if det_A == 0:\n",
    "        raise ValueError('Matrix irreversible')\n",
    "        return None\n",
    "    \n",
    "    # Xử lý trường hợp ma trận cấp 1\n",
    "    if n_row == 1 and n_col == 1:\n",
    "        return 1/det_A\n",
    "    \n",
    "    # Tạo ma trận kết quả\n",
    "    A_res = [[0 for _ in range(n_col)] for _ in range(n_row)]\n",
    "    \n",
    "    # A_res = adj(A)/det_A\n",
    "    # B1: Chuyển vị ma trận gốc\n",
    "    A_trans = transpose_matrix(A)\n",
    "    \n",
    "    # B2: Tính adj(A) đồng thời gán kết quả vào A_res\n",
    "    for i_row in range(n_row):\n",
    "        for i_col in range(n_col):\n",
    "            # Tạo ra các ma trận con\n",
    "            sub_A = create_submatrix(A_trans, i_row, i_col)\n",
    " \n",
    "            # Tìm dấu\n",
    "            sign = (-1) ** (i_row + i_col)\n",
    "            \n",
    "            A_res[i_row][i_col] = sign * determinant(sub_A)\n",
    " \n",
    "    # B3: Chia định thức\n",
    "    A_res = multiply_scalar_matrix(1/det_A, A_res)\n",
    "    \n",
    "    return A_res"
   ]
  },
  {
   "cell_type": "markdown",
   "id": "1811dd47",
   "metadata": {},
   "source": [
    "### 4. Tạo ma trận input và output\n",
    "\n",
    "- Dựa trên dữ liệu đã đọc từ file CSV và input/output đã mô tả ở trên, ta sẽ tạo ma trận input và output."
   ]
  },
  {
   "cell_type": "code",
   "execution_count": 70,
   "id": "5c0f6ccf",
   "metadata": {},
   "outputs": [],
   "source": [
    "X_train = df[list_feature_name]\n",
    "y_train = df[output_model_name]"
   ]
  },
  {
   "cell_type": "code",
   "execution_count": 71,
   "id": "1ecbba15",
   "metadata": {},
   "outputs": [
    {
     "data": {
      "text/html": [
       "<div>\n",
       "<style scoped>\n",
       "    .dataframe tbody tr th:only-of-type {\n",
       "        vertical-align: middle;\n",
       "    }\n",
       "\n",
       "    .dataframe tbody tr th {\n",
       "        vertical-align: top;\n",
       "    }\n",
       "\n",
       "    .dataframe thead th {\n",
       "        text-align: right;\n",
       "    }\n",
       "</style>\n",
       "<table border=\"1\" class=\"dataframe\">\n",
       "  <thead>\n",
       "    <tr style=\"text-align: right;\">\n",
       "      <th></th>\n",
       "      <th>age</th>\n",
       "      <th>annual_income</th>\n",
       "      <th>purchase_amount</th>\n",
       "      <th>purchase_frequency</th>\n",
       "    </tr>\n",
       "  </thead>\n",
       "  <tbody>\n",
       "    <tr>\n",
       "      <th>0</th>\n",
       "      <td>25</td>\n",
       "      <td>45000</td>\n",
       "      <td>200</td>\n",
       "      <td>12</td>\n",
       "    </tr>\n",
       "    <tr>\n",
       "      <th>1</th>\n",
       "      <td>34</td>\n",
       "      <td>55000</td>\n",
       "      <td>350</td>\n",
       "      <td>18</td>\n",
       "    </tr>\n",
       "    <tr>\n",
       "      <th>2</th>\n",
       "      <td>45</td>\n",
       "      <td>65000</td>\n",
       "      <td>500</td>\n",
       "      <td>22</td>\n",
       "    </tr>\n",
       "    <tr>\n",
       "      <th>3</th>\n",
       "      <td>22</td>\n",
       "      <td>30000</td>\n",
       "      <td>150</td>\n",
       "      <td>10</td>\n",
       "    </tr>\n",
       "    <tr>\n",
       "      <th>4</th>\n",
       "      <td>29</td>\n",
       "      <td>47000</td>\n",
       "      <td>220</td>\n",
       "      <td>13</td>\n",
       "    </tr>\n",
       "  </tbody>\n",
       "</table>\n",
       "</div>"
      ],
      "text/plain": [
       "   age  annual_income  purchase_amount  purchase_frequency\n",
       "0   25          45000              200                  12\n",
       "1   34          55000              350                  18\n",
       "2   45          65000              500                  22\n",
       "3   22          30000              150                  10\n",
       "4   29          47000              220                  13"
      ]
     },
     "execution_count": 71,
     "metadata": {},
     "output_type": "execute_result"
    }
   ],
   "source": [
    "X_train.head()"
   ]
  },
  {
   "cell_type": "code",
   "execution_count": 72,
   "id": "c35031d1",
   "metadata": {},
   "outputs": [
    {
     "data": {
      "text/html": [
       "<div>\n",
       "<style scoped>\n",
       "    .dataframe tbody tr th:only-of-type {\n",
       "        vertical-align: middle;\n",
       "    }\n",
       "\n",
       "    .dataframe tbody tr th {\n",
       "        vertical-align: top;\n",
       "    }\n",
       "\n",
       "    .dataframe thead th {\n",
       "        text-align: right;\n",
       "    }\n",
       "</style>\n",
       "<table border=\"1\" class=\"dataframe\">\n",
       "  <thead>\n",
       "    <tr style=\"text-align: right;\">\n",
       "      <th></th>\n",
       "      <th>loyalty_score</th>\n",
       "    </tr>\n",
       "  </thead>\n",
       "  <tbody>\n",
       "    <tr>\n",
       "      <th>0</th>\n",
       "      <td>4.5</td>\n",
       "    </tr>\n",
       "    <tr>\n",
       "      <th>1</th>\n",
       "      <td>7.0</td>\n",
       "    </tr>\n",
       "    <tr>\n",
       "      <th>2</th>\n",
       "      <td>8.0</td>\n",
       "    </tr>\n",
       "    <tr>\n",
       "      <th>3</th>\n",
       "      <td>3.0</td>\n",
       "    </tr>\n",
       "    <tr>\n",
       "      <th>4</th>\n",
       "      <td>4.8</td>\n",
       "    </tr>\n",
       "  </tbody>\n",
       "</table>\n",
       "</div>"
      ],
      "text/plain": [
       "   loyalty_score\n",
       "0            4.5\n",
       "1            7.0\n",
       "2            8.0\n",
       "3            3.0\n",
       "4            4.8"
      ]
     },
     "execution_count": 72,
     "metadata": {},
     "output_type": "execute_result"
    }
   ],
   "source": [
    "y_train.head()"
   ]
  },
  {
   "cell_type": "markdown",
   "id": "0a0fe8f8",
   "metadata": {},
   "source": [
    "#### Thêm số 1 vào cột đầu tiên của ma trận input\n",
    "\n",
    "- Để tính toán hệ số hồi quy tuyến tính, ta cần thêm một cột số 1 vào đầu ma trận input để đại diện cho hằng số trong mô hình."
   ]
  },
  {
   "cell_type": "code",
   "execution_count": 73,
   "id": "bb829606",
   "metadata": {},
   "outputs": [],
   "source": [
    "# Thêm cột 1 vào đầu các ma trận X\n",
    "X_train_with_bias = X_train.copy()\n",
    "X_train_with_bias.insert(0, 'bias', 1)\n",
    "\n",
    "# chuyen dataframe -> list\n",
    "X_train_matrix = X_train_with_bias.values.tolist()\n",
    "y_train_matrix = y_train.values.tolist()\n",
    "\n",
    "# X_train_matrix"
   ]
  },
  {
   "cell_type": "markdown",
   "id": "7ee25883",
   "metadata": {},
   "source": [
    "### Tính kích thước hàm mất mát\n",
    "\n",
    "- Để hàm mất mát $L(w)$ đạt giá trị nhỏ nhất, ta cần tính kích thước của hàm mất mát $w$. \n",
    "\n",
    "- w được tính bằng công thức:\n",
    "$$\n",
    "w = (X^T \\cdot X)^{-1} \\cdot X^T \\cdot y\n",
    "$$"
   ]
  },
  {
   "cell_type": "code",
   "execution_count": 74,
   "id": "967f184f",
   "metadata": {},
   "outputs": [
    {
     "data": {
      "text/plain": [
       "[[0.5554059697801677],\n",
       " [0.005043673437925944],\n",
       " [3.465115049702122e-05],\n",
       " [0.012306224068657556],\n",
       " [-0.059777759380267526]]"
      ]
     },
     "execution_count": 74,
     "metadata": {},
     "output_type": "execute_result"
    }
   ],
   "source": [
    "xTx = multiply_matrix(transpose_matrix(X_train_matrix), X_train_matrix)\n",
    "xTx_tru_1 = inverse(xTx)\n",
    "xTy = multiply_matrix(transpose_matrix(X_train_matrix), y_train_matrix)\n",
    "\n",
    "w = multiply_matrix(xTx_tru_1, xTy)\n",
    "\n",
    "w"
   ]
  },
  {
   "cell_type": "markdown",
   "id": "77d749a0",
   "metadata": {},
   "source": [
    "#### Hiển thị phương trình hồi quy tuyến tính\n",
    "\n",
    "- Dựa trên hệ số hồi quy tuyến tính $w$ đã tính được, ta sẽ hiển thị phương trình hồi quy tuyến tính dưới dạng:\n",
    "$$\n",
    "y = w_0 + w_1 \\cdot x_1 + w_2 \\cdot x_2 + ... + w_n \\cdot x_n\n",
    "$$"
   ]
  },
  {
   "cell_type": "code",
   "execution_count": 75,
   "id": "071487e9",
   "metadata": {},
   "outputs": [
    {
     "name": "stdout",
     "output_type": "stream",
     "text": [
      "Phương trình hồi quy tuyến tính:\n",
      "Y = 0.555406 + 0.005044 * age + 3.5e-05 * annual_income + 0.012306 * purchase_amount + -0.059778 * purchase_frequency\n"
     ]
    }
   ],
   "source": [
    "print(\"Phương trình hồi quy tuyến tính:\")\n",
    "print(f'Y = {round(w[0][0], 6)} + {round(w[1][0], 6)} * {list_feature_name[0]} + {round(w[2][0], 6)} * {list_feature_name[1]} + {round(w[3][0], 6)} * {list_feature_name[2]} + {round(w[4][0], 6)} * {list_feature_name[3]}')"
   ]
  },
  {
   "cell_type": "code",
   "execution_count": 76,
   "id": "f2905f15",
   "metadata": {},
   "outputs": [
    {
     "name": "stdout",
     "output_type": "stream",
     "text": [
      "Mean Squared Error on training data: 0.0370\n"
     ]
    }
   ],
   "source": [
    "y_pred = []\n",
    "for row in X_train_matrix:\n",
    "    prediction = w[0][0] + w[1][0]*row[1] + w[2][0]*row[2] + w[3][0]*row[3] + w[4][0]*row[4]\n",
    "    y_pred.append(prediction)\n",
    "    \n",
    "y_test_list = []\n",
    "\n",
    "if isinstance(y_train_matrix[0], list):\n",
    "    y_test_list = [item[0] for item in y_train_matrix]\n",
    "else:\n",
    "    y_test_list = y_train_matrix\n",
    "\n",
    "# Tính MSE (Mean Squared Error)\n",
    "mse = sum([(y_pred[i] - y_test_list[i])**2 for i in range(len(y_pred))]) / len(y_pred)\n",
    "print(f\"Mean Squared Error on training data: {mse:.4f}\")"
   ]
  },
  {
   "cell_type": "markdown",
   "id": "52e95e2b",
   "metadata": {},
   "source": [
    "#### Vẽ đồ thì phân tán"
   ]
  },
  {
   "cell_type": "code",
   "execution_count": 77,
   "id": "fbb9f156",
   "metadata": {},
   "outputs": [
    {
     "data": {
      "image/png": "[encoded data removed]",
      "text/plain": [
       "<Figure size 600x600 with 1 Axes>"
      ]
     },
     "metadata": {},
     "output_type": "display_data"
    }
   ],
   "source": [
    "# Vẽ đồ thị phân tán giữa giá trị thực tế và dự đoán\n",
    "plt.figure(figsize=(6, 6))\n",
    "plt.scatter(y_test_list, y_pred, alpha=0.6)\n",
    "plt.plot([min(y_test_list), max(y_test_list)], [min(y_test_list), max(y_test_list)], 'r--')\n",
    "plt.title('Loyalty Score: Actual vs Predicted')\n",
    "plt.xlabel('Actual')\n",
    "plt.ylabel('Predicted')\n",
    "plt.grid(True, alpha=0.3)\n",
    "plt.show()"
   ]
  },
  {
   "cell_type": "markdown",
   "id": "05bf02e3",
   "metadata": {},
   "source": [
    "### Câu 2"
   ]
  },
  {
   "cell_type": "markdown",
   "id": "d480b09b",
   "metadata": {},
   "source": [
    "- Xét mô hình hồi quy tuyến tính $y = w_0 + w_1x_1$ chỉ sử dụng 1 đặc trưng duy nhất, hãy tìm đặc trưng mà mô\n",
    "hình hồi quy tuyến tính thể hiện tốt nhất\n",
    "- Dựa theo các bước đã thực hiện ở trên, ta sẽ lặp qua từng đặc trưng trong ma trận input và tính toán hệ số hồi quy tuyến tính cho từng đặc trưng. Sau đó, ta sẽ so sánh giá trị của hàm mất mát để tìm ra đặc trưng tốt nhất.\n",
    "- Trước hết thì em sẽ gói tất cả các bước ở trên câu 1 vào trong một hàm `train_model` để có thể tái sử dụng lại."
   ]
  },
  {
   "cell_type": "code",
   "execution_count": 78,
   "id": "cdf18a70",
   "metadata": {},
   "outputs": [
    {
     "name": "stdout",
     "output_type": "stream",
     "text": [
      "Phương trình hồi quy tuyến tính với đặc trưng: age\n",
      "Y = -0.917717 + 0.199393 * age \n",
      "Mean Squared Error on training data: 0.1293\n",
      "\n",
      "\n",
      "Phương trình hồi quy tuyến tính với đặc trưng: annual_income\n",
      "Y = -2.61616 + 0.000164 * age \n",
      "Mean Squared Error on training data: 0.1115\n",
      "\n",
      "\n",
      "Phương trình hồi quy tuyến tính với đặc trưng: purchase_amount\n",
      "Y = 1.05653 + 0.01348 * age \n",
      "Mean Squared Error on training data: 0.0419\n",
      "\n",
      "\n",
      "Phương trình hồi quy tuyến tính với đặc trưng: purchase_frequency\n",
      "Y = -1.338628 + 0.41078 * age \n",
      "Mean Squared Error on training data: 0.0928\n",
      "\n",
      "\n"
     ]
    }
   ],
   "source": [
    "for name_of_feature in list_feature_name:\n",
    "    X_train= df[[name_of_feature]]\n",
    "    y_train = df[output_model_name]\n",
    "    \n",
    "    X_train_with_bias = X_train.copy()\n",
    "    X_train_with_bias.insert(0, 'bias', 1)\n",
    "\n",
    "    # chuyen dataframe -> list\n",
    "    X_train_matrix = X_train_with_bias.values.tolist()\n",
    "    y_train_matrix = y_train.values.tolist()\n",
    "    \n",
    "    xTx = multiply_matrix(transpose_matrix(X_train_matrix), X_train_matrix)\n",
    "    xTx_tru_1 = inverse(xTx)\n",
    "    xTy = multiply_matrix(transpose_matrix(X_train_matrix), y_train_matrix)\n",
    "\n",
    "    w = multiply_matrix(xTx_tru_1, xTy)\n",
    "    \n",
    "    print(f\"Phương trình hồi quy tuyến tính với đặc trưng: {name_of_feature}\")\n",
    "    print(f'Y = {round(w[0][0], 6)} + {round(w[1][0], 6)} * {list_feature_name[0]} ')\n",
    "    \n",
    "    y_pred = []\n",
    "    for row in X_train_matrix:\n",
    "        prediction = w[0][0] + w[1][0]*row[1]\n",
    "        y_pred.append(prediction)\n",
    "        \n",
    "    y_test_list = []\n",
    "\n",
    "    if isinstance(y_train_matrix[0], list):\n",
    "        y_test_list = [item[0] for item in y_train_matrix]\n",
    "    else:\n",
    "        y_test_list = y_train_matrix\n",
    "\n",
    "    # Tính MSE (Mean Squared Error)\n",
    "    mse = sum([(y_pred[i] - y_test_list[i])**2 for i in range(len(y_pred))]) / len(y_pred)\n",
    "    print(f\"Mean Squared Error on training data: {mse:.4f}\")\n",
    "\n",
    "    \n",
    "    print('\\n')"
   ]
  },
  {
   "cell_type": "markdown",
   "id": "3e3076d8",
   "metadata": {},
   "source": [
    "### Kết luận về đặc trưng tốt nhất\n",
    "\n",
    "Từ kết quả phân tích các đặc trưng riêng lẻ, ta có thể thấy rằng:\n",
    "\n",
    "$$\\text{Feature: purchase\\_amount}$$ \n",
    "\n",
    "$$Y = 1.05653 + 0.01348 \\times \\text{purchase\\_amount}$$\n",
    "\n",
    "$$\\text{MSE} = 0.0419$$\n",
    "\n",
    "Đặc trưng **purchase_amount** cho kết quả MSE thấp nhất (0.0419), do đó đây là đặc trưng mà mô hình hồi quy tuyến tính đơn biến thể hiện tốt nhất trong việc dự đoán loyalty_score."
   ]
  },
  {
   "cell_type": "markdown",
   "id": "62121345",
   "metadata": {},
   "source": [
    "### Câu 3"
   ]
  },
  {
   "cell_type": "markdown",
   "id": "747e1cfb",
   "metadata": {},
   "source": [
    "Sinh viên hãy thiết kế một mô hình hồi quy tuyến tính khác với những mô hình trên mà cho kết quả tốt nhất.\n",
    "Lưu ý, ta chỉ cần tính chất “tuyến tính” cho các tham số wi, còn xi có thể ở bất kì dạng nào. Do đó, các bạn\n",
    "có thể thay đổi xi tuỳ ý, ví dụ x1 thành x21 hay √x1, miễn là mô hình các bạn có thể đạt được kết quả tốt hơn\n",
    "những mô hình ở câu (c) và (d)."
   ]
  },
  {
   "cell_type": "markdown",
   "id": "91eb3b2b",
   "metadata": {},
   "source": [
    "Ở đây, em sẽ chọn tham số $x_i$ là $\\sqrt{x_i}$ của các đặc trưng trong ma trận input."
   ]
  },
  {
   "cell_type": "code",
   "execution_count": 79,
   "id": "86fd63c3",
   "metadata": {},
   "outputs": [],
   "source": [
    "df['age_sqrt'] = df['age'] ** 0.5\n",
    "df['annual_income_sqrt'] = df['annual_income'] ** 0.5\n",
    "df['purchase_amount_sqrt'] = df['purchase_amount'] ** 0.5\n",
    "df['purchase_frequency_sqrt'] = df['purchase_frequency'] ** 0.5\n",
    "\n",
    "list_feature_name = ['age_sqrt', 'annual_income_sqrt', 'purchase_amount_sqrt', 'purchase_frequency_sqrt']"
   ]
  },
  {
   "cell_type": "markdown",
   "id": "26dc0693",
   "metadata": {},
   "source": [
    "#### Kiểm tra dũ liệu"
   ]
  },
  {
   "cell_type": "code",
   "execution_count": 80,
   "id": "a30c33e7",
   "metadata": {},
   "outputs": [
    {
     "data": {
      "text/plain": [
       "0    5.000000\n",
       "1    5.830952\n",
       "2    6.708204\n",
       "3    4.690416\n",
       "4    5.385165\n",
       "Name: age_sqrt, dtype: float64"
      ]
     },
     "execution_count": 80,
     "metadata": {},
     "output_type": "execute_result"
    }
   ],
   "source": [
    "df['age_sqrt'].head()"
   ]
  },
  {
   "cell_type": "code",
   "execution_count": 81,
   "id": "f6382274",
   "metadata": {},
   "outputs": [
    {
     "data": {
      "text/plain": [
       "0    25\n",
       "1    34\n",
       "2    45\n",
       "3    22\n",
       "4    29\n",
       "Name: age, dtype: int64"
      ]
     },
     "execution_count": 81,
     "metadata": {},
     "output_type": "execute_result"
    }
   ],
   "source": [
    "df['age'].head()"
   ]
  },
  {
   "cell_type": "markdown",
   "id": "82daee2c",
   "metadata": {},
   "source": [
    "Tiến hành train mô hình với dữ liệu $\\sqrt{x_i}$. Các bước tiến hành tương tự như ở trên"
   ]
  },
  {
   "cell_type": "markdown",
   "id": "9394ddf7",
   "metadata": {},
   "source": [
    "Tạo bộ dữ liệu tran và test"
   ]
  },
  {
   "cell_type": "code",
   "execution_count": 82,
   "id": "3c9f5771",
   "metadata": {},
   "outputs": [
    {
     "name": "stdout",
     "output_type": "stream",
     "text": [
      "Phương trình hồi quy tuyến tính:\n",
      "Y = -5.085653 + 1.025149 * age_sqrt + -0.000593 * annual_income_sqrt + 0.388623 * purchase_amount_sqrt + -0.498458 * purchase_frequency_sqrt\n",
      "Mean Squared Error on training data: 0.0331\n"
     ]
    }
   ],
   "source": [
    "X_train= df[list_feature_name]\n",
    "y_train = df[output_model_name]\n",
    "\n",
    "X_train_with_bias = X_train.copy()\n",
    "X_train_with_bias.insert(0, 'bias', 1)\n",
    "\n",
    "# chuyen dataframe -> list\n",
    "X_train_matrix = X_train_with_bias.values.tolist()\n",
    "y_train_matrix = y_train.values.tolist()\n",
    "\n",
    "xTx = multiply_matrix(transpose_matrix(X_train_matrix), X_train_matrix)\n",
    "xTx_tru_1 = inverse(xTx)\n",
    "xTy = multiply_matrix(transpose_matrix(X_train_matrix), y_train_matrix)\n",
    "\n",
    "w = multiply_matrix(xTx_tru_1, xTy)\n",
    "\n",
    "print(\"Phương trình hồi quy tuyến tính:\")\n",
    "print(f'Y = {round(w[0][0], 6)} + {round(w[1][0], 6)} * {list_feature_name[0]} + {round(w[2][0], 6)} * {list_feature_name[1]} + {round(w[3][0], 6)} * {list_feature_name[2]} + {round(w[4][0], 6)} * {list_feature_name[3]}')\n",
    "\n",
    "y_pred = []\n",
    "for row in X_train_matrix:\n",
    "    prediction = w[0][0] + w[1][0]*row[1] + w[2][0]*row[2] + w[3][0]*row[3] + w[4][0]*row[4]\n",
    "    y_pred.append(prediction)\n",
    "    \n",
    "y_test_list = []\n",
    "\n",
    "if isinstance(y_train_matrix[0], list):\n",
    "    y_test_list = [item[0] for item in y_train_matrix]\n",
    "else:\n",
    "    y_test_list = y_train_matrix\n",
    "\n",
    "# Tính MSE (Mean Squared Error)\n",
    "mse = sum([(y_pred[i] - y_test_list[i])**2 for i in range(len(y_pred))]) / len(y_pred)\n",
    "print(f\"Mean Squared Error on training data: {mse:.4f}\")"
   ]
  },
  {
   "cell_type": "markdown",
   "id": "d8692516",
   "metadata": {},
   "source": [
    "Với kết quả sử dụng $\\sqrt{x_i}$, kết quả thu được của MSE là 0.0331, thấp hơn so với mô hình hồi quy tuyến tính đơn biến sử dụng đặc trưng purchase_amount (MSE = 0.0419) và mô hình hồi quy tuyến tính đa biến (MSE = 0.0352). Điều này cho thấy việc sử dụng $\\sqrt{x_i}$ đã cải thiện đáng kể độ chính xác của mô hình."
   ]
  },
  {
   "cell_type": "markdown",
   "id": "e552a7cc",
   "metadata": {},
   "source": [
    "#### Test\n"
   ]
  },
  {
   "cell_type": "code",
   "execution_count": 83,
   "id": "63ff59de",
   "metadata": {},
   "outputs": [
    {
     "data": {
      "text/plain": [
       "[[5, 10, 15], [20, 25, 30], [35, 40, 45]]"
      ]
     },
     "execution_count": 83,
     "metadata": {},
     "output_type": "execute_result"
    }
   ],
   "source": [
    "a = [[1,2,3],\n",
    "     [4,5,6],\n",
    "     [7,8,9]]\n",
    "b = [[5],\n",
    "    [2],\n",
    "    [3]]\n",
    "\n",
    "r = multiply_scalar_matrix(5, a)\n",
    "r"
   ]
  },
  {
   "cell_type": "code",
   "execution_count": 84,
   "id": "120c904c",
   "metadata": {},
   "outputs": [],
   "source": [
    "list_feature_name = ['purchase_frequency']\n",
    "X_train = df[list_feature_name]\n",
    "y_train = df[output_model_name[0]]\n",
    "X_train_with_bias = X_train.copy()\n",
    "X_train_with_bias.insert(0, 'bias', 1)\n",
    "\n",
    "X_train_matrix = X_train_with_bias.values.tolist()\n",
    "\n",
    "y_train_matrix = [[val] for val in y_train.values.tolist()]\n",
    "\n",
    "xTx = multiply_matrix(transpose_matrix(X_train_matrix), X_train_matrix)\n",
    "\n",
    "# det_xTx = determinant(xTx)\n",
    "# det_xTx\n",
    "xTx_tru_1 = inverse(xTx)\n",
    "xTy = multiply_matrix(transpose_matrix(X_train_matrix), y_train_matrix)\n",
    "\n",
    "# w = multiply_matrix(xTx_tru_1, xTy)\n",
    "\n",
    "# # print(\"Phương trình hồi quy tuyến tính:\")\n",
    "# # print(f'Y = {round(w[0][0], 6)} + {round(w[1][0], 6)} * {list_feature_name[0]}')\n",
    "\n",
    "# w"
   ]
  }
 ],
 "metadata": {
  "kernelspec": {
   "display_name": "Python 3",
   "language": "python",
   "name": "python3"
  },
  "language_info": {
   "codemirror_mode": {
    "name": "ipython",
    "version": 3
   },
   "file_extension": ".py",
   "mimetype": "text/x-python",
   "name": "python",
   "nbconvert_exporter": "python",
   "pygments_lexer": "ipython3",
   "version": "3.11.5"
  }
 },
 "nbformat": 4,
 "nbformat_minor": 5
}
