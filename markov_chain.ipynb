{
 "cells": [
  {
   "cell_type": "markdown",
   "id": "c8141cba",
   "metadata": {},
   "source": [
    "### **Đồ án Final - Toán ứng dụng và Thống kê - Applied Mathematics and Statistics**"
   ]
  },
  {
   "cell_type": "markdown",
   "id": "9540fe07",
   "metadata": {},
   "source": [
    "### **Phần 2: Markov Chain**"
   ]
  },
  {
   "cell_type": "markdown",
   "id": "f9733d28",
   "metadata": {},
   "source": [
    "Đề bài: Cho một con xúc xắc cân bằng có 6 mặt được đánh số từ 1 đến 6. Gọi $S_n$ là tổng các kết quả sau khi tung xúc xắc n lần đầu tiên. Ta muốn khảo sát phân phối của giá trị phần dư của $S_n$ khi chia cho 7."
   ]
  },
  {
   "cell_type": "markdown",
   "id": "da1c91dc",
   "metadata": {},
   "source": [
    "### **Câu a: Hãy mô tả biến ngẫu nhiên Xn phù hợp cho bài toán trên mà có tính chất Markov. Từ đó, xác định ma trận chuyển trạng thái P và vectơ phân phối đầu π0**"
   ]
  },
  {
   "cell_type": "markdown",
   "id": "9dce6a7d",
   "metadata": {},
   "source": [
    "#### 1. Xác định biến ngẫu nhiên $X_n$:"
   ]
  },
  {
   "cell_type": "markdown",
   "id": "1eb47e88",
   "metadata": {},
   "source": [
    "Mỗi lần tung xúc xắc, kết quả sẽ là 1 trong các số từ 1 đến 6 sau đó cộng dồn lại vào tổng $S_n$. Giá trị phần dư của $S_n$ khi chia cho 7 sẽ là một trong các giá trị từ 0 đến 6. Vì mỗi lần tung xúc xắc chỉ ảnh hưởng đến giá trị phần dư hiện tại, không phụ thuộc vào các kết quả trước đó, nên bài toán trên có tính chất Markov và có thể miêu tả biến ngẫu nhiên $X_n$ như sau:\n",
    "\n",
    "- Biến ngẫu nhiên $X_n$ = $S_n$ % 7 = $\\{0, 1, 2, 3, 4, 5, 6\\}$"
   ]
  },
  {
   "cell_type": "markdown",
   "id": "70ad66eb",
   "metadata": {},
   "source": [
    "#### 2. Xác định ma trận chuyển trạng thái P:"
   ]
  },
  {
   "cell_type": "markdown",
   "id": "6a10ec4a",
   "metadata": {},
   "source": [
    "Ma trận chuyển trạng thái $P$ sẽ được xây dựng dựa trên xác suất chuyển từ trạng thái này sang trạng thái khác. Cụ thể:\n",
    "\n",
    "Khi đang ở trạng thái $i$, sau một lần tung xúc xắc, ta có thể chuyển đến các trạng thái $(i + j) \\mod 7$ với xác suất $\\frac{1}{6}$ cho mỗi $j = 1, 2, 3, 4, 5, 6$. Do đó, ma trận chuyển trạng thái $P$ sẽ có dạng:\n",
    "\n",
    "$\n",
    "P = \\begin{bmatrix}\n",
    "0 & 1/6 & 1/6 & 1/6 & 1/6 & 1/6 & 1/6 \\\\\n",
    "1/6 & 0 & 1/6 & 1/6 & 1/6 & 1/6 & 1/6 \\\\\n",
    "1/6 & 1/6 & 0 & 1/6 & 1/6 & 1/6 & 1/6 \\\\\n",
    "1/6 & 1/6 & 1/6 & 0 & 1/6 & 1/6 & 1/6 \\\\\n",
    "1/6 & 1/6 & 1/6 & 1/6 & 0 & 1/6 & 1/6 \\\\\n",
    "1/6 & 1/6 & 1/6 & 1/6 & 1/6 & 0 & 1/6 \\\\\n",
    "1/6 & 1/6 & 1/6 & 1/6 & 1/6 & 1/6 & 0\n",
    "\\end{bmatrix}\n",
    "$"
   ]
  },
  {
   "cell_type": "markdown",
   "id": "94760994",
   "metadata": {},
   "source": [
    "#### 3. Xác định vectơ phân phối đầu $\\pi_0$:"
   ]
  },
  {
   "cell_type": "markdown",
   "id": "9a798385",
   "metadata": {},
   "source": [
    "$\\pi_0$ = \n",
    "$\\begin{bmatrix} \n",
    "1 \\\\\n",
    "0 \\\\\n",
    "0 \\\\\n",
    "0 \\\\\n",
    "0 \\\\\n",
    "0 \\\\\n",
    "0\n",
    "\\end{bmatrix}$\n",
    "\n",
    "Vì khi bắt đầu, tổng $S_0 = 0$, nên phần dư của $S_0$ khi chia cho 7 là 0. Do đó, xác suất $P(X_0 = 0) = 1$ và các xác suất khác là 0."
   ]
  },
  {
   "cell_type": "markdown",
   "id": "ec71ffd6",
   "metadata": {},
   "source": [
    "### **Câu b: Viết hàm dùng để tính xác suất xuất hiện các giá trị phần dư của $S_n$ khi chia cho 7**"
   ]
  },
  {
   "cell_type": "markdown",
   "id": "bad8ac6b",
   "metadata": {},
   "source": [
    "#### Import các thư viện cần thiết"
   ]
  },
  {
   "cell_type": "code",
   "execution_count": 1,
   "id": "fde7dc1f",
   "metadata": {},
   "outputs": [],
   "source": [
    "import pandas as pd"
   ]
  },
  {
   "cell_type": "markdown",
   "id": "66ec4138",
   "metadata": {},
   "source": [
    "### Các hàm hỗ trợ trong việc tính xác suất:"
   ]
  },
  {
   "cell_type": "markdown",
   "id": "8b7962c0",
   "metadata": {},
   "source": [
    "Vector phân phối đầu vào $\\pi_0$"
   ]
  },
  {
   "cell_type": "code",
   "execution_count": 2,
   "id": "2250553d",
   "metadata": {},
   "outputs": [],
   "source": [
    "pi_0 = [[1], [0], [0], [0], [0], [0], [0]]"
   ]
  },
  {
   "cell_type": "markdown",
   "id": "9291a274",
   "metadata": {},
   "source": [
    "Hàm tạo ma trận 0 với n dòng và m cột"
   ]
  },
  {
   "cell_type": "code",
   "execution_count": 3,
   "id": "63ff6b6d",
   "metadata": {},
   "outputs": [],
   "source": [
    "def create_zero_matrix(n_row, n_col):\n",
    "    return [[0 for _ in range(n_col)] for _ in range(n_row)]"
   ]
  },
  {
   "cell_type": "markdown",
   "id": "0b8805d5",
   "metadata": {},
   "source": [
    "Hàm tạo ma trận chuyển trạng thái P:\n",
    "\n",
    "- Hàm này sẽ tạo ra ma trận chuyển trạng thái $P$ dựa trên câu a."
   ]
  },
  {
   "cell_type": "code",
   "execution_count": 4,
   "id": "4f93ad1e",
   "metadata": {},
   "outputs": [],
   "source": [
    "def create_transition_matrix():\n",
    "    P = create_zero_matrix(7, 7)\n",
    "    for i in range(7):\n",
    "        for dice in range(1, 7):\n",
    "            j = (i + dice) % 7\n",
    "            P[j][i] += 1/6\n",
    "    return P"
   ]
  },
  {
   "cell_type": "markdown",
   "id": "cc543a3a",
   "metadata": {},
   "source": [
    "Hàm nhân 2 ma trận A và B:\n",
    "\n",
    "- Hàm này sẽ nhân 2 ma trận với nhau. Điều kiện là số cột của ma trận A phải bằng số dòng của ma trận B."
   ]
  },
  {
   "cell_type": "code",
   "execution_count": 5,
   "id": "cf19f5ec",
   "metadata": {},
   "outputs": [],
   "source": [
    "def matrix_multiply(A, B):\n",
    "    rows_A, cols_A = len(A), len(A[0])\n",
    "    rows_B, cols_B = len(B), len(B[0])\n",
    "    \n",
    "    if cols_A != rows_B:\n",
    "        raise ValueError(\"Number of columns in A must equal number of rows in B\")\n",
    "    \n",
    "    result = create_zero_matrix(rows_A, cols_B)\n",
    "    for i in range(rows_A):\n",
    "        for j in range(cols_B):\n",
    "            for k in range(cols_A):\n",
    "                result[i][j] += A[i][k] * B[k][j]\n",
    "    return result"
   ]
  },
  {
   "cell_type": "code",
   "execution_count": 6,
   "id": "ccb89cba",
   "metadata": {},
   "outputs": [],
   "source": [
    "def matrix_multiply(A, B):\n",
    "    rows_A, cols_A = len(A), len(A[0])\n",
    "    rows_B, cols_B = len(B), len(B[0])\n",
    "    \n",
    "    if cols_A != rows_B:\n",
    "        raise ValueError(\"Number of columns in A must equal number of rows in B\")\n",
    "    \n",
    "    result = create_zero_matrix(rows_A, cols_B)\n",
    "    for i in range(rows_A):\n",
    "        for j in range(cols_B):\n",
    "            for k in range(cols_A):\n",
    "                result[i][j] += A[i][k] * B[k][j]\n",
    "    return result"
   ]
  },
  {
   "cell_type": "markdown",
   "id": "31f71be8",
   "metadata": {},
   "source": [
    "Hàm lũy thừa ma trận\n",
    "\n",
    "- Hàm này sẽ tính lũy thừa của ma trận $P$ với số mũ là $n$. Sử dụng lại hàm nhân ma trận đã định nghĩa ở trên."
   ]
  },
  {
   "cell_type": "code",
   "execution_count": 7,
   "id": "9c21e86b",
   "metadata": {},
   "outputs": [],
   "source": [
    "def matrix_power(matrix, n):\n",
    "    size = len(matrix)\n",
    "    result = create_zero_matrix(size, size)\n",
    "    for i in range(size):\n",
    "        result[i][i] = 1\n",
    "\n",
    "    for _ in range(n):\n",
    "        result = matrix_multiply(matrix, result)\n",
    "    return result"
   ]
  },
  {
   "cell_type": "markdown",
   "id": "a387d0a4",
   "metadata": {},
   "source": [
    "Hàm tính phân phối xác suất của các giá trị phần dư của $S_n$ khi chia cho 7 sau $n$ lần tung xúc xắc:\n",
    "\n",
    "- Để có thể tính được xác suất xuất hiện các giá trị phần dư của $S_n$ khi chia cho 7 sau $n$ lần tung, ta sẽ sử dụng công thức:\n",
    "\n",
    "$$\n",
    "\\pi_n = P^n \\cdot \\pi_0\n",
    "$$"
   ]
  },
  {
   "cell_type": "code",
   "execution_count": 8,
   "id": "a84b3fe0",
   "metadata": {},
   "outputs": [],
   "source": [
    "def compute_distribution_after_n_steps(P, n):\n",
    "    pi_n = matrix_multiply(matrix_power(P, n), pi_0)\n",
    "    return [round(x[0], 6) for x in pi_n]"
   ]
  },
  {
   "cell_type": "markdown",
   "id": "f51362a4",
   "metadata": {},
   "source": [
    "Thực hiện tính toán. Sử dụng dataframe trong thư viện pandas để lưu trữ và hiển thị kết quả cho dễ nhìn."
   ]
  },
  {
   "cell_type": "code",
   "execution_count": 11,
   "id": "9cfbc044",
   "metadata": {},
   "outputs": [
    {
     "data": {
      "text/html": [
       "<style type=\"text/css\">\n",
       "</style>\n",
       "<table id=\"T_ad928\">\n",
       "  <thead>\n",
       "    <tr>\n",
       "      <th id=\"T_ad928_level0_col0\" class=\"col_heading level0 col0\" >n</th>\n",
       "      <th id=\"T_ad928_level0_col1\" class=\"col_heading level0 col1\" >S%7=0</th>\n",
       "      <th id=\"T_ad928_level0_col2\" class=\"col_heading level0 col2\" >S%7=1</th>\n",
       "      <th id=\"T_ad928_level0_col3\" class=\"col_heading level0 col3\" >S%7=2</th>\n",
       "      <th id=\"T_ad928_level0_col4\" class=\"col_heading level0 col4\" >S%7=3</th>\n",
       "      <th id=\"T_ad928_level0_col5\" class=\"col_heading level0 col5\" >S%7=4</th>\n",
       "      <th id=\"T_ad928_level0_col6\" class=\"col_heading level0 col6\" >S%7=5</th>\n",
       "      <th id=\"T_ad928_level0_col7\" class=\"col_heading level0 col7\" >S%7=6</th>\n",
       "    </tr>\n",
       "  </thead>\n",
       "  <tbody>\n",
       "    <tr>\n",
       "      <td id=\"T_ad928_row0_col0\" class=\"data row0 col0\" >1</td>\n",
       "      <td id=\"T_ad928_row0_col1\" class=\"data row0 col1\" >0.000000</td>\n",
       "      <td id=\"T_ad928_row0_col2\" class=\"data row0 col2\" >0.166667</td>\n",
       "      <td id=\"T_ad928_row0_col3\" class=\"data row0 col3\" >0.166667</td>\n",
       "      <td id=\"T_ad928_row0_col4\" class=\"data row0 col4\" >0.166667</td>\n",
       "      <td id=\"T_ad928_row0_col5\" class=\"data row0 col5\" >0.166667</td>\n",
       "      <td id=\"T_ad928_row0_col6\" class=\"data row0 col6\" >0.166667</td>\n",
       "      <td id=\"T_ad928_row0_col7\" class=\"data row0 col7\" >0.166667</td>\n",
       "    </tr>\n",
       "    <tr>\n",
       "      <td id=\"T_ad928_row1_col0\" class=\"data row1 col0\" >2</td>\n",
       "      <td id=\"T_ad928_row1_col1\" class=\"data row1 col1\" >0.166667</td>\n",
       "      <td id=\"T_ad928_row1_col2\" class=\"data row1 col2\" >0.138889</td>\n",
       "      <td id=\"T_ad928_row1_col3\" class=\"data row1 col3\" >0.138889</td>\n",
       "      <td id=\"T_ad928_row1_col4\" class=\"data row1 col4\" >0.138889</td>\n",
       "      <td id=\"T_ad928_row1_col5\" class=\"data row1 col5\" >0.138889</td>\n",
       "      <td id=\"T_ad928_row1_col6\" class=\"data row1 col6\" >0.138889</td>\n",
       "      <td id=\"T_ad928_row1_col7\" class=\"data row1 col7\" >0.138889</td>\n",
       "    </tr>\n",
       "    <tr>\n",
       "      <td id=\"T_ad928_row2_col0\" class=\"data row2 col0\" >3</td>\n",
       "      <td id=\"T_ad928_row2_col1\" class=\"data row2 col1\" >0.138889</td>\n",
       "      <td id=\"T_ad928_row2_col2\" class=\"data row2 col2\" >0.143519</td>\n",
       "      <td id=\"T_ad928_row2_col3\" class=\"data row2 col3\" >0.143519</td>\n",
       "      <td id=\"T_ad928_row2_col4\" class=\"data row2 col4\" >0.143519</td>\n",
       "      <td id=\"T_ad928_row2_col5\" class=\"data row2 col5\" >0.143519</td>\n",
       "      <td id=\"T_ad928_row2_col6\" class=\"data row2 col6\" >0.143519</td>\n",
       "      <td id=\"T_ad928_row2_col7\" class=\"data row2 col7\" >0.143519</td>\n",
       "    </tr>\n",
       "    <tr>\n",
       "      <td id=\"T_ad928_row3_col0\" class=\"data row3 col0\" >4</td>\n",
       "      <td id=\"T_ad928_row3_col1\" class=\"data row3 col1\" >0.143519</td>\n",
       "      <td id=\"T_ad928_row3_col2\" class=\"data row3 col2\" >0.142747</td>\n",
       "      <td id=\"T_ad928_row3_col3\" class=\"data row3 col3\" >0.142747</td>\n",
       "      <td id=\"T_ad928_row3_col4\" class=\"data row3 col4\" >0.142747</td>\n",
       "      <td id=\"T_ad928_row3_col5\" class=\"data row3 col5\" >0.142747</td>\n",
       "      <td id=\"T_ad928_row3_col6\" class=\"data row3 col6\" >0.142747</td>\n",
       "      <td id=\"T_ad928_row3_col7\" class=\"data row3 col7\" >0.142747</td>\n",
       "    </tr>\n",
       "    <tr>\n",
       "      <td id=\"T_ad928_row4_col0\" class=\"data row4 col0\" >5</td>\n",
       "      <td id=\"T_ad928_row4_col1\" class=\"data row4 col1\" >0.142747</td>\n",
       "      <td id=\"T_ad928_row4_col2\" class=\"data row4 col2\" >0.142876</td>\n",
       "      <td id=\"T_ad928_row4_col3\" class=\"data row4 col3\" >0.142876</td>\n",
       "      <td id=\"T_ad928_row4_col4\" class=\"data row4 col4\" >0.142876</td>\n",
       "      <td id=\"T_ad928_row4_col5\" class=\"data row4 col5\" >0.142876</td>\n",
       "      <td id=\"T_ad928_row4_col6\" class=\"data row4 col6\" >0.142876</td>\n",
       "      <td id=\"T_ad928_row4_col7\" class=\"data row4 col7\" >0.142876</td>\n",
       "    </tr>\n",
       "    <tr>\n",
       "      <td id=\"T_ad928_row5_col0\" class=\"data row5 col0\" >6</td>\n",
       "      <td id=\"T_ad928_row5_col1\" class=\"data row5 col1\" >0.142876</td>\n",
       "      <td id=\"T_ad928_row5_col2\" class=\"data row5 col2\" >0.142854</td>\n",
       "      <td id=\"T_ad928_row5_col3\" class=\"data row5 col3\" >0.142854</td>\n",
       "      <td id=\"T_ad928_row5_col4\" class=\"data row5 col4\" >0.142854</td>\n",
       "      <td id=\"T_ad928_row5_col5\" class=\"data row5 col5\" >0.142854</td>\n",
       "      <td id=\"T_ad928_row5_col6\" class=\"data row5 col6\" >0.142854</td>\n",
       "      <td id=\"T_ad928_row5_col7\" class=\"data row5 col7\" >0.142854</td>\n",
       "    </tr>\n",
       "    <tr>\n",
       "      <td id=\"T_ad928_row6_col0\" class=\"data row6 col0\" >7</td>\n",
       "      <td id=\"T_ad928_row6_col1\" class=\"data row6 col1\" >0.142854</td>\n",
       "      <td id=\"T_ad928_row6_col2\" class=\"data row6 col2\" >0.142858</td>\n",
       "      <td id=\"T_ad928_row6_col3\" class=\"data row6 col3\" >0.142858</td>\n",
       "      <td id=\"T_ad928_row6_col4\" class=\"data row6 col4\" >0.142858</td>\n",
       "      <td id=\"T_ad928_row6_col5\" class=\"data row6 col5\" >0.142858</td>\n",
       "      <td id=\"T_ad928_row6_col6\" class=\"data row6 col6\" >0.142858</td>\n",
       "      <td id=\"T_ad928_row6_col7\" class=\"data row6 col7\" >0.142858</td>\n",
       "    </tr>\n",
       "    <tr>\n",
       "      <td id=\"T_ad928_row7_col0\" class=\"data row7 col0\" >8</td>\n",
       "      <td id=\"T_ad928_row7_col1\" class=\"data row7 col1\" >0.142858</td>\n",
       "      <td id=\"T_ad928_row7_col2\" class=\"data row7 col2\" >0.142857</td>\n",
       "      <td id=\"T_ad928_row7_col3\" class=\"data row7 col3\" >0.142857</td>\n",
       "      <td id=\"T_ad928_row7_col4\" class=\"data row7 col4\" >0.142857</td>\n",
       "      <td id=\"T_ad928_row7_col5\" class=\"data row7 col5\" >0.142857</td>\n",
       "      <td id=\"T_ad928_row7_col6\" class=\"data row7 col6\" >0.142857</td>\n",
       "      <td id=\"T_ad928_row7_col7\" class=\"data row7 col7\" >0.142857</td>\n",
       "    </tr>\n",
       "    <tr>\n",
       "      <td id=\"T_ad928_row8_col0\" class=\"data row8 col0\" >9</td>\n",
       "      <td id=\"T_ad928_row8_col1\" class=\"data row8 col1\" >0.142857</td>\n",
       "      <td id=\"T_ad928_row8_col2\" class=\"data row8 col2\" >0.142857</td>\n",
       "      <td id=\"T_ad928_row8_col3\" class=\"data row8 col3\" >0.142857</td>\n",
       "      <td id=\"T_ad928_row8_col4\" class=\"data row8 col4\" >0.142857</td>\n",
       "      <td id=\"T_ad928_row8_col5\" class=\"data row8 col5\" >0.142857</td>\n",
       "      <td id=\"T_ad928_row8_col6\" class=\"data row8 col6\" >0.142857</td>\n",
       "      <td id=\"T_ad928_row8_col7\" class=\"data row8 col7\" >0.142857</td>\n",
       "    </tr>\n",
       "    <tr>\n",
       "      <td id=\"T_ad928_row9_col0\" class=\"data row9 col0\" >10</td>\n",
       "      <td id=\"T_ad928_row9_col1\" class=\"data row9 col1\" >0.142857</td>\n",
       "      <td id=\"T_ad928_row9_col2\" class=\"data row9 col2\" >0.142857</td>\n",
       "      <td id=\"T_ad928_row9_col3\" class=\"data row9 col3\" >0.142857</td>\n",
       "      <td id=\"T_ad928_row9_col4\" class=\"data row9 col4\" >0.142857</td>\n",
       "      <td id=\"T_ad928_row9_col5\" class=\"data row9 col5\" >0.142857</td>\n",
       "      <td id=\"T_ad928_row9_col6\" class=\"data row9 col6\" >0.142857</td>\n",
       "      <td id=\"T_ad928_row9_col7\" class=\"data row9 col7\" >0.142857</td>\n",
       "    </tr>\n",
       "  </tbody>\n",
       "</table>\n"
      ],
      "text/plain": [
       "<pandas.io.formats.style.Styler at 0x103d795d0>"
      ]
     },
     "execution_count": 11,
     "metadata": {},
     "output_type": "execute_result"
    }
   ],
   "source": [
    "# tao ma tran P\n",
    "P = create_transition_matrix()\n",
    "\n",
    "results = []\n",
    "for n in range(1, 11):\n",
    "    dist = compute_distribution_after_n_steps(P, n)\n",
    "    row = [n] + dist\n",
    "    results.append(row)\n",
    "\n",
    "columns = ['n'] + [f'S%7={i}' for i in range(7)]\n",
    "df = pd.DataFrame(results, columns=columns)\n",
    "\n",
    "df.style.hide(axis='index')"
   ]
  },
  {
   "cell_type": "markdown",
   "id": "feee533f",
   "metadata": {},
   "source": [
    "Ví dụ: Xác suất để phần dư của $S_n$ khi chia cho 7 là 1 sau 3 lần tung xúc xắc sẽ là $\\pi_3[1] = 0.143519$."
   ]
  },
  {
   "cell_type": "markdown",
   "id": "89ab1f29",
   "metadata": {},
   "source": [
    "#### Câu c: Viết hàm dùng để kiểm tra xích Markov đã cho có tồn tại phân phối dừng hay không. Nếu có, hãy tính phân phối dừng và chỉ ra thời điểm t ∈Nsao cho phân phối xác suất πt chính là phân phối dừng."
   ]
  },
  {
   "cell_type": "markdown",
   "id": "75c153e9",
   "metadata": {},
   "source": [
    "Markov Chain tồn tại phân phối dừng khi tồn tại $t \\in \\mathbb{N}$ sao cho $\\pi_{n+1} \\approx \\pi_n$.\n",
    "\n",
    "Em sẽ kiểm tra bằng cách lặp lại thông qua 1 vòng for việc nhân ma trận chuyển trạng thái $P$ với phân phối xác suất $\\pi_n$ cho đến khi phân phối xác suất không thay đổi nhiều nữa (được xác định bằng một ngưỡng nhỏ $\\epsilon$)."
   ]
  },
  {
   "cell_type": "markdown",
   "id": "aba5ff08",
   "metadata": {},
   "source": [
    "Hàm kiểm tra sự hội tụ: so sánh hai vector `vec1` và `vec2` với ngưỡng sai số `epsilon`. Nếu độ chênh lệch giữa các phần tử tương ứng nhỏ hơn `epsilon` thì coi như đã hội tụ."
   ]
  },
  {
   "cell_type": "code",
   "execution_count": 12,
   "id": "d41d96fc",
   "metadata": {},
   "outputs": [],
   "source": [
    "def is_converged(vec1, vec2, epsilon=1e-8):\n",
    "    for a, b in zip(vec1, vec2):\n",
    "        if abs(a - b) > epsilon:\n",
    "            return False\n",
    "    return True"
   ]
  },
  {
   "cell_type": "markdown",
   "id": "3d777771",
   "metadata": {},
   "source": [
    "Hàm tính $\\pi_n$ cho đến khi hội tụ:"
   ]
  },
  {
   "cell_type": "code",
   "execution_count": 13,
   "id": "df42f923",
   "metadata": {},
   "outputs": [],
   "source": [
    "def markov_stationary_distribution(P, max_steps=1000, epsilon=1e-8):\n",
    "\tpi_0 = [[1], [0], [0], [0], [0], [0], [0]] \n",
    "\t\n",
    "\tfor t in range(1, max_steps + 1):\n",
    "\t\tnext_pi = matrix_multiply(P, pi_0)\n",
    "\t\tif is_converged([x[0] for x in pi_0], [x[0] for x in next_pi], epsilon):\n",
    "\t\t\tprint(f\"Phân phối dừng tồn tại tại thời điểm t = {t}\")\n",
    "\t\t\tprint(\"Phân phối dừng:\")\n",
    "\t\t\tfor i, prob in enumerate(next_pi):\n",
    "\t\t\t\tprint(f\"π[{i}] = {prob[0]:.6f}\")\n",
    "\t\t\treturn next_pi, t\n",
    "\t\tpi_0 = next_pi\n",
    "\t\n",
    "\tprint(\"Không tìm thấy phân phối dừng trong step cho trước\")\n",
    "\treturn pi_0, max_steps\n"
   ]
  },
  {
   "cell_type": "code",
   "execution_count": 14,
   "id": "3b470cea",
   "metadata": {},
   "outputs": [
    {
     "name": "stdout",
     "output_type": "stream",
     "text": [
      "Phân phối dừng tồn tại tại thời điểm t = 12\n",
      "Phân phối dừng:\n",
      "π[0] = 0.142857\n",
      "π[1] = 0.142857\n",
      "π[2] = 0.142857\n",
      "π[3] = 0.142857\n",
      "π[4] = 0.142857\n",
      "π[5] = 0.142857\n",
      "π[6] = 0.142857\n"
     ]
    }
   ],
   "source": [
    "result = markov_stationary_distribution(P)"
   ]
  },
  {
   "cell_type": "code",
   "execution_count": 15,
   "id": "7db82526",
   "metadata": {},
   "outputs": [
    {
     "name": "stdout",
     "output_type": "stream",
     "text": [
      "[0.13888888888888887, 0.1435185185185185, 0.1435185185185185, 0.1435185185185185, 0.14351851851851852, 0.14351851851851852, 0.14351851851851852]\n",
      "[0.1435185185185185, 0.13888888888888887, 0.1435185185185185, 0.1435185185185185, 0.14351851851851852, 0.14351851851851852, 0.14351851851851852]\n",
      "[0.1435185185185185, 0.1435185185185185, 0.13888888888888887, 0.1435185185185185, 0.14351851851851852, 0.14351851851851852, 0.14351851851851852]\n",
      "[0.1435185185185185, 0.1435185185185185, 0.1435185185185185, 0.13888888888888887, 0.14351851851851852, 0.14351851851851852, 0.14351851851851852]\n",
      "[0.1435185185185185, 0.1435185185185185, 0.1435185185185185, 0.14351851851851852, 0.13888888888888887, 0.14351851851851852, 0.14351851851851852]\n",
      "[0.1435185185185185, 0.1435185185185185, 0.1435185185185185, 0.14351851851851852, 0.14351851851851852, 0.13888888888888887, 0.14351851851851852]\n",
      "[0.1435185185185185, 0.1435185185185185, 0.1435185185185185, 0.14351851851851852, 0.14351851851851852, 0.14351851851851852, 0.13888888888888887]\n"
     ]
    }
   ],
   "source": [
    "# tính p ^ 3\n",
    "P_3 = matrix_power(P, 3)\n",
    "\n",
    "for i in range(7):\n",
    "    print(f\"{P_3[i]}\")"
   ]
  },
  {
   "cell_type": "markdown",
   "id": "4408eb3c",
   "metadata": {},
   "source": [
    "Nhận thấy: tồn tại n sao cho mọi số hạng của $P^n$ đều là số dương. Nên ma trận chuyển P là ma trận chính quy => Phân phối giới hạn cũng là phân phối dừng duy nhất."
   ]
  },
  {
   "cell_type": "markdown",
   "id": "a6d4a92a",
   "metadata": {},
   "source": [
    "#### Câu d: Quá trình tung xúc xắc được diễn ra cho đến khi tồn tại i ∈N∗ sao cho giá trị Si chia hết cho 7 thì dừng. Viết hàm tính xác suất tung xúc xắc không quá n lần với giá trị n là một trong những đầu vào của hàm."
   ]
  },
  {
   "cell_type": "markdown",
   "id": "e4235618",
   "metadata": {},
   "source": [
    "Xác suất tổng chia hết cho 7 (phần dư là 0) sau không quá n lần tung."
   ]
  },
  {
   "cell_type": "markdown",
   "id": "727fc423",
   "metadata": {},
   "source": [
    "Ta có : $\\pi_0 =\n",
    "\\begin{bmatrix}\n",
    "1 \\\\\n",
    "0 \\\\\n",
    "0 \\\\\n",
    "0 \\\\\n",
    "0 \\\\\n",
    "0 \\\\\n",
    "0\n",
    "\\end{bmatrix}\n",
    "$"
   ]
  },
  {
   "cell_type": "markdown",
   "id": "9ab5e9be",
   "metadata": {},
   "source": [
    "#### Giải thích thuật toán:\n",
    "\n",
    "Để tính xác suất dừng trong không quá n lần tung, ta sử dụng công thức:\n",
    "\n",
    "**$\\pi_{t+1} = P \\times \\pi_t$**\n",
    "\n",
    "Trong đó:\n",
    "- $\\pi_t$ là vector phân phối xác suất tại bước t\n",
    "- $P$ là ma trận chuyển trạng thái\n",
    "\n",
    "#### Các bước thực hiện:\n",
    "\n",
    "**Bước 1: Khởi tạo**\n",
    "- $\\pi_0 = [1, 0, 0, 0, 0, 0, 0]$ (bắt đầu từ trạng thái 0)\n",
    "\n",
    "**Bước 2: Tại mỗi bước t từ 1 đến n**\n",
    "1. Tính $\\pi_t = P \\times \\pi_{t-1}$\n",
    "2. Lấy xác suất dừng tại bước t: $\\pi_t[0]$\n",
    "3. Cộng vào tổng xác suất dừng tích lũy\n",
    "4. **Reset $\\pi_t[0] = 0$** để không đếm lại những trường hợp đã dừng\n",
    "\n",
    "**Bước 3: Kết quả**\n",
    "- Trả về tổng xác suất dừng tích lũy\n",
    "\n",
    "#### Ví dụ chi tiết:\n",
    "\n",
    "**Bước 1:** $\\pi_1 = P \\times \\pi_0 = [0, 1/6, 1/6, 1/6, 1/6, 1/6, 1/6]$\n",
    "- Xác suất dừng bước 1: 0 (vì 1,2,3,4,5,6 đều không chia hết cho 7)\n",
    "\n",
    "**Bước 2:** $\\pi_2 = P \\times \\pi_1$ (sau reset) = $[1/6, 1/36, 5/36, 5/36, 5/36, 5/36, 1/36]$\n",
    "- Xác suất dừng bước 2: 1/6\n",
    "- Các cách: 1+6, 2+5, 3+4, 4+3, 5+2, 6+1 → $6 \\times \\frac{1}{6} \\times \\frac{1}{6} = \\frac{1}{6}$\n",
    "- Reset $\\pi_2[0] = 0$, tiếp tục..."
   ]
  },
  {
   "cell_type": "code",
   "execution_count": 16,
   "id": "f894162d",
   "metadata": {},
   "outputs": [],
   "source": [
    "def detailed_stop_probability_steps(n):\n",
    "    P = create_transition_matrix()\n",
    "    pi = [[1.0], [0.0], [0.0], [0.0], [0.0], [0.0], [0.0]]  # π_0\n",
    "    \n",
    "    total_stop_prob = 0.0\n",
    "\n",
    "    for step in range(1, n + 1):\n",
    "        # Tính π_t = P × π_{t-1}\n",
    "        pi = matrix_multiply(P, pi)\n",
    "\n",
    "        prob_stop_at_step = pi[0][0]\n",
    "        total_stop_prob += prob_stop_at_step\n",
    "\n",
    "        # print(f\"P(dừng trong ≤{step} bước) = {total_stop_prob: .6f}\")\n",
    "\n",
    "        # Reset π_t[0] = 0\n",
    "        pi[0][0] = 0.0\n",
    "        \n",
    "    print(f\"P(dừng trong ≤{step} bước) = {total_stop_prob: .6f}\")"
   ]
  },
  {
   "cell_type": "code",
   "execution_count": null,
   "id": "6b3d7f0a",
   "metadata": {},
   "outputs": [
    {
     "name": "stdout",
     "output_type": "stream",
     "text": [
      "P(dừng trong ≤10 bước) =  0.806193\n"
     ]
    }
   ],
   "source": [
    "n = 10 # thay doi gia tri cua n\n",
    "detailed_stop_probability_steps(n)"
   ]
  }
 ],
 "metadata": {
  "kernelspec": {
   "display_name": "Python 3",
   "language": "python",
   "name": "python3"
  },
  "language_info": {
   "codemirror_mode": {
    "name": "ipython",
    "version": 3
   },
   "file_extension": ".py",
   "mimetype": "text/x-python",
   "name": "python",
   "nbconvert_exporter": "python",
   "pygments_lexer": "ipython3",
   "version": "3.11.5"
  }
 },
 "nbformat": 4,
 "nbformat_minor": 5
}
